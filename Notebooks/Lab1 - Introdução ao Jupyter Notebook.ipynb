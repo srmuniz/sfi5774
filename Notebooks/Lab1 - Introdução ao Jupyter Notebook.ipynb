{
 "cells": [
  {
   "cell_type": "markdown",
   "metadata": {},
   "source": [
    "# Lab 1: Introdução ao Jupyter notebook\n",
    "Neste notebook veremos uma breve introdução ao ambiente [Jupyter](https://jupyter.org/) e a linguagem [Python](https://docs.python.org/pt-br/3.7/tutorial/index.html). Veremos também como utilizar alguns elementos básicos de interesse do nosso curso. Como, por exemplo, expressar números complexos, vetores e matrizes, além de escrever e usar funções matemáticas e produzir gráficos em Python. \n",
    "\n",
    "Na próxima aula prática, veremos como usar ferramentas de computação algébrica, com expressões analíticas."
   ]
  },
  {
   "cell_type": "markdown",
   "metadata": {},
   "source": [
    "<hr>\n",
    "\n",
    "## Notebook Basics\n",
    "O _Jupyter notebook_ permite reunir num mesmo documento um ambiente interativo com **textos** e **fórmulas matemáticas**, **figuras** e **gráficos**, **código em Python** (ou outras linguagens), **código HTML** e **widgets interativos**, tudo num só lugar, interagindo de forma integral. É ótimo tanto para testar e explorar ideias, como comunicá-las a outras pessoas.\n",
    "\n",
    "Para ter informaçãos de como funciona o ambiente do notebook Jupyter, acesse os links:\n",
    "\n",
    "- [What is Jupyter Notebook](https://nbviewer.jupyter.org/github/jupyter/notebook/blob/master/docs/source/examples/Notebook/What%20is%20the%20Jupyter%20Notebook.ipynb)\n",
    "- [Notebook basics](https://nbviewer.jupyter.org/github/jupyter/notebook/blob/master/docs/source/examples/Notebook/Notebook%20Basics.ipynb)\n",
    "- [Working with Markdown cells](https://nbviewer.jupyter.org/github/jupyter/notebook/blob/master/docs/source/examples/Notebook/Working%20With%20Markdown%20Cells.ipynb)\n",
    "- [Typesetting Equations (with LaTeX)](https://nbviewer.jupyter.org/github/jupyter/notebook/blob/master/docs/source/examples/Notebook/Typesetting%20Equations.ipynb)\n",
    "\n",
    "Para facilitar, ainda mais e também permitir você explorar/modificar os códigos fontes, eu incluí uma cópia do diretórios de exemplos aqui, na sua área neste servidor. Basta procurar o diretório **Jupyter_Tutorial/examples/Notebook** no diretório principal, quando você faz o _login_ neste servidor. Alternativamente, poderá acessar esse exemplos no [GitHub](https://github.com/jupyter/notebook/tree/master/docs/source/examples/Notebook).\n",
    "\n",
    "Não deixe de acessar e explorar o link acima (além de acessar o código neste servidor, você pode baixar o _notebook_ e explorar o código localmente, para entender seus elementos -- é uma ótima forma de aprender rapidamente!). Para acessar o Jupyter (Python) no seu computador (localmente), eu recomendo instalar a distribuição [Anaconda](https://www.anaconda.com/products/individual).\n",
    "\n",
    "A seguir nós iremos nos concentra em como usar esse ambiente para as atividades e tarefas desta disciplina.\n",
    "<hr>"
   ]
  },
  {
   "cell_type": "markdown",
   "metadata": {},
   "source": [
    "## Números e operações básicas\n",
    "Python é uma linguagem interpretada, em contraste com liguagens compiladas, o que significa que, além de gerar programas (scripts) você também pode interagir diretamente com o interpretador e, por exemplo, fazer cáculos como numa calculadora. "
   ]
  },
  {
   "cell_type": "code",
   "execution_count": 1,
   "metadata": {},
   "outputs": [
    {
     "data": {
      "text/plain": [
       "7"
      ]
     },
     "execution_count": 1,
     "metadata": {},
     "output_type": "execute_result"
    }
   ],
   "source": [
    "3+4"
   ]
  },
  {
   "cell_type": "code",
   "execution_count": 2,
   "metadata": {},
   "outputs": [
    {
     "data": {
      "text/plain": [
       "21"
      ]
     },
     "execution_count": 2,
     "metadata": {},
     "output_type": "execute_result"
    }
   ],
   "source": [
    "3*7"
   ]
  },
  {
   "cell_type": "code",
   "execution_count": 3,
   "metadata": {},
   "outputs": [
    {
     "data": {
      "text/plain": [
       "2.3333333333333335"
      ]
     },
     "execution_count": 3,
     "metadata": {},
     "output_type": "execute_result"
    }
   ],
   "source": [
    "7/3"
   ]
  },
  {
   "cell_type": "code",
   "execution_count": 4,
   "metadata": {},
   "outputs": [
    {
     "data": {
      "text/plain": [
       "2"
      ]
     },
     "execution_count": 4,
     "metadata": {},
     "output_type": "execute_result"
    }
   ],
   "source": [
    "7//3  #divisão inteira"
   ]
  },
  {
   "cell_type": "markdown",
   "metadata": {},
   "source": [
    "### Números complexos"
   ]
  },
  {
   "cell_type": "code",
   "execution_count": 5,
   "metadata": {},
   "outputs": [
    {
     "data": {
      "text/plain": [
       "(3+4j)"
      ]
     },
     "execution_count": 5,
     "metadata": {},
     "output_type": "execute_result"
    }
   ],
   "source": [
    " 3 + 4j"
   ]
  },
  {
   "cell_type": "code",
   "execution_count": 6,
   "metadata": {},
   "outputs": [
    {
     "data": {
      "text/plain": [
       "(10+7j)"
      ]
     },
     "execution_count": 6,
     "metadata": {},
     "output_type": "execute_result"
    }
   ],
   "source": [
    "(3+4j)+(7+3j)"
   ]
  },
  {
   "cell_type": "code",
   "execution_count": 7,
   "metadata": {},
   "outputs": [
    {
     "data": {
      "text/plain": [
       "(520+37j)"
      ]
     },
     "execution_count": 7,
     "metadata": {},
     "output_type": "execute_result"
    }
   ],
   "source": [
    "(3+4j)*(7+3j)+511"
   ]
  },
  {
   "cell_type": "markdown",
   "metadata": {},
   "source": [
    "Podemos definir variáveis, atribuindo valores numéricos (tanto reais, como complexos) a essas variáveis "
   ]
  },
  {
   "cell_type": "code",
   "execution_count": 8,
   "metadata": {},
   "outputs": [
    {
     "data": {
      "text/plain": [
       "(3+4j)"
      ]
     },
     "execution_count": 8,
     "metadata": {},
     "output_type": "execute_result"
    }
   ],
   "source": [
    "r = 7\n",
    "z = 3 + 4j\n",
    "z"
   ]
  },
  {
   "cell_type": "markdown",
   "metadata": {},
   "source": [
    "Usando o método **.conjugate()** é possível acessar o complexo cojugado do valor associado a uma variável."
   ]
  },
  {
   "cell_type": "code",
   "execution_count": 9,
   "metadata": {},
   "outputs": [
    {
     "data": {
      "text/plain": [
       "(3-4j)"
      ]
     },
     "execution_count": 9,
     "metadata": {},
     "output_type": "execute_result"
    }
   ],
   "source": [
    "z.conjugate()"
   ]
  },
  {
   "cell_type": "code",
   "execution_count": 10,
   "metadata": {},
   "outputs": [
    {
     "data": {
      "text/plain": [
       "7"
      ]
     },
     "execution_count": 10,
     "metadata": {},
     "output_type": "execute_result"
    }
   ],
   "source": [
    "r.conjugate()"
   ]
  },
  {
   "cell_type": "markdown",
   "metadata": {},
   "source": [
    "(😃) **Variáveis dinâmicas:** em Python a atribuição de variáveis é feita dinamicamente, no sentido que o tipo da variável <br>(i.e., como ela é armazenada internamente na memória) é determinado automaticamente, dependo do valor atribuído a ela. <br>Por isso não é necessário escolher _a priori_ o tipo da variável. É só usar...  ( _mas tome cuidado!_ )"
   ]
  },
  {
   "cell_type": "markdown",
   "metadata": {},
   "source": [
    "### Listas"
   ]
  },
  {
   "cell_type": "code",
   "execution_count": 11,
   "metadata": {},
   "outputs": [
    {
     "data": {
      "text/plain": [
       "[1, 4, 9, 16, 25]"
      ]
     },
     "execution_count": 11,
     "metadata": {},
     "output_type": "execute_result"
    }
   ],
   "source": [
    "lista = [1, 4, 9, 16, 25]  # atribui a lista a uma variável\n",
    "lista  #mostra os resultados (valor da variável)"
   ]
  },
  {
   "cell_type": "markdown",
   "metadata": {},
   "source": [
    "Você pode acessar e \"manipular\" os valores dos elementos na lista, usando seu índice. Os índices em Python sempre começam no elemento \"zero\"..."
   ]
  },
  {
   "cell_type": "code",
   "execution_count": 12,
   "metadata": {},
   "outputs": [
    {
     "data": {
      "text/plain": [
       "9"
      ]
     },
     "execution_count": 12,
     "metadata": {},
     "output_type": "execute_result"
    }
   ],
   "source": [
    "lista[2]  # acessa o terceiro elemento da lista"
   ]
  },
  {
   "cell_type": "code",
   "execution_count": 13,
   "metadata": {},
   "outputs": [
    {
     "data": {
      "text/plain": [
       "1"
      ]
     },
     "execution_count": 13,
     "metadata": {},
     "output_type": "execute_result"
    }
   ],
   "source": [
    "lista[0]  # este é o primeiro elemento"
   ]
  },
  {
   "cell_type": "code",
   "execution_count": 14,
   "metadata": {},
   "outputs": [
    {
     "data": {
      "text/plain": [
       "25"
      ]
     },
     "execution_count": 14,
     "metadata": {},
     "output_type": "execute_result"
    }
   ],
   "source": [
    "lista[-1]  # e este, consegue imaginar?? "
   ]
  },
  {
   "cell_type": "markdown",
   "metadata": {},
   "source": [
    "Listas podem ter diferentes tipos de elementos, não apenas números:"
   ]
  },
  {
   "cell_type": "code",
   "execution_count": 15,
   "metadata": {},
   "outputs": [
    {
     "data": {
      "text/plain": [
       "[1, 4, 9, 16, 25, 'a', 'b', 'c', 'd', 'texto também pode!', '😉', '👍😃✌']"
      ]
     },
     "execution_count": 15,
     "metadata": {},
     "output_type": "execute_result"
    }
   ],
   "source": [
    "lista2 = ['a', 'b', 'c', 'd','texto também pode!','😉','👍😃✌']\n",
    "lista + lista2  # o que será que vai sair disso?? (que operação é essa?)"
   ]
  },
  {
   "cell_type": "markdown",
   "metadata": {},
   "source": [
    "Para mais informações sobre como usar listas, acesse este [link para o tutorial do Python](https://docs.python.org/3.7/tutorial/introduction.html#lists)."
   ]
  },
  {
   "cell_type": "markdown",
   "metadata": {},
   "source": [
    " <hr>"
   ]
  },
  {
   "cell_type": "markdown",
   "metadata": {},
   "source": [
    "## Extendendo a funcionalidade com bibliotecas\n",
    "A linguagem Python tem um número gigantesco de  **bibliotecas** (extensões da linguagem) especializadas em tarefas específicas. Elas aumentam muito o funcionalidade e os recursos da liguagem. Além da [Biblioteca Padrão](https://docs.python.org/pt-br/3.7/library/index.html#library-index), existe um grande número de bibliotecas produzidas pela comunidade de código aberto, especialmente na [área científica](https://scipy.org). \n",
    "\n",
    "A filosofia da liguagem é diferene de várias outras liguagens, mantendo apenas um _core_ (núcleo) mínimo de palavras reservadas (\"keywords\" e [identificadores](https://docs.python.org/pt-br/3.7/reference/lexical_analysis.html#identifiers)), deixando funcionalidades mais específicas para essas bibliotecas especializadas. Assim, especialmente para o uso científico do Python, nós precisaremo usar essas extensões. \n",
    "\n",
    "Usaremos várias delas ao longo deste curso, principalmente [Numpy](https://numpy.org/doc/stable/user/index.html), [Scipy](https://scipy.org/), [Matplotlib](https://matplotlib.org/) e [SymPy](https://www.sympy.org/en/index.html), além, claro do próprio Jupyter, que também é uma extensão da linguagem, como resultado da evolução do [IPython](https://ipython.org/). \n",
    "\n",
    "Abaixo eu mostro como carregar algumas delas."
   ]
  },
  {
   "cell_type": "code",
   "execution_count": 16,
   "metadata": {},
   "outputs": [],
   "source": [
    "from numpy import array, dot, outer, sqrt, matrix, linspace, sin, cos\n",
    "from numpy.linalg import eig, eigvals\n",
    "from matplotlib.pyplot import hist, plot\n",
    "%matplotlib inline"
   ]
  },
  {
   "cell_type": "markdown",
   "metadata": {},
   "source": [
    "Outra forma de fazer isso é:"
   ]
  },
  {
   "cell_type": "code",
   "execution_count": 17,
   "metadata": {},
   "outputs": [],
   "source": [
    "import numpy as np        # aqui atribui-se um \"apelido\" ('alias') para o nome da biblioteca\n",
    "import numpy.linalg as la"
   ]
  },
  {
   "cell_type": "markdown",
   "metadata": {},
   "source": [
    "### Vetores\n",
    "Praticamente toda linguagem de programação possui algum tipo de estrutura para armazenar dados de um determinado tipo (geralmente números, mas também caracteres). Geralmente são chamados de \"**arrays**\" (que no caso do Python, estão na biblioteca [Numpy](https://numpy.org/doc/stable/), que foi carregado acima). No nosso idioma eles são normalmente traduzido como \"vetores\". <br>\n",
    "Esses vetores são parecidos, mas _nem sempre equivalentes_ , ao conceito de vetores usado na Física ou na Algebra Linear.\n",
    "\n",
    "Podemos, porém, definir e usar formalmente algo análogo aos vetores que temos usado neste curso, mesmo no sentido de espaços vetorias complexos...\n",
    "\n",
    "Abaixo eu mostro como definir vetores **linhas** e **colunas**, como os usados na MQ."
   ]
  },
  {
   "cell_type": "code",
   "execution_count": 18,
   "metadata": {},
   "outputs": [
    {
     "data": {
      "text/plain": [
       "array([1, 2, 3])"
      ]
     },
     "execution_count": 18,
     "metadata": {},
     "output_type": "execute_result"
    }
   ],
   "source": [
    "vl = array([1,2,3])  # um vetor linha\n",
    "vl"
   ]
  },
  {
   "cell_type": "code",
   "execution_count": 19,
   "metadata": {},
   "outputs": [
    {
     "data": {
      "text/plain": [
       "array([[4],\n",
       "       [5],\n",
       "       [6]])"
      ]
     },
     "execution_count": 19,
     "metadata": {},
     "output_type": "execute_result"
    }
   ],
   "source": [
    "vc = array([[4],[5],[6]])  # um vetor coluna\n",
    "vc"
   ]
  },
  {
   "cell_type": "code",
   "execution_count": 20,
   "metadata": {},
   "outputs": [
    {
     "data": {
      "text/plain": [
       "array([32])"
      ]
     },
     "execution_count": 20,
     "metadata": {},
     "output_type": "execute_result"
    }
   ],
   "source": [
    "dot(vl,vc) # produto escalar (produto interno): retorna um escalar"
   ]
  },
  {
   "cell_type": "code",
   "execution_count": 21,
   "metadata": {},
   "outputs": [
    {
     "ename": "ValueError",
     "evalue": "shapes (3,1) and (3,) not aligned: 1 (dim 1) != 3 (dim 0)",
     "output_type": "error",
     "traceback": [
      "\u001b[1;31m---------------------------------------------------------------------------\u001b[0m",
      "\u001b[1;31mValueError\u001b[0m                                Traceback (most recent call last)",
      "\u001b[1;32m<ipython-input-21-84108f792119>\u001b[0m in \u001b[0;36m<module>\u001b[1;34m\u001b[0m\n\u001b[1;32m----> 1\u001b[1;33m \u001b[0mdot\u001b[0m\u001b[1;33m(\u001b[0m\u001b[0mvc\u001b[0m\u001b[1;33m,\u001b[0m\u001b[0mvl\u001b[0m\u001b[1;33m)\u001b[0m  \u001b[1;31m# CUIDADO!! A ordem faz diferença... (porque??!)\u001b[0m\u001b[1;33m\u001b[0m\u001b[1;33m\u001b[0m\u001b[0m\n\u001b[0m",
      "\u001b[1;32m<__array_function__ internals>\u001b[0m in \u001b[0;36mdot\u001b[1;34m(*args, **kwargs)\u001b[0m\n",
      "\u001b[1;31mValueError\u001b[0m: shapes (3,1) and (3,) not aligned: 1 (dim 1) != 3 (dim 0)"
     ]
    }
   ],
   "source": [
    "dot(vc,vl)  # CUIDADO!! A ordem faz diferença... (porque??!)"
   ]
  },
  {
   "cell_type": "code",
   "execution_count": 22,
   "metadata": {},
   "outputs": [
    {
     "data": {
      "text/plain": [
       "array([[ 4,  8, 12],\n",
       "       [ 5, 10, 15],\n",
       "       [ 6, 12, 18]])"
      ]
     },
     "execution_count": 22,
     "metadata": {},
     "output_type": "execute_result"
    }
   ],
   "source": [
    "outer (vc,vl)  # retorna um operador linear (não um escalar!)"
   ]
  },
  {
   "cell_type": "code",
   "execution_count": 23,
   "metadata": {},
   "outputs": [
    {
     "data": {
      "text/plain": [
       "array([[ 4,  5,  6],\n",
       "       [ 8, 10, 12],\n",
       "       [12, 15, 18]])"
      ]
     },
     "execution_count": 23,
     "metadata": {},
     "output_type": "execute_result"
    }
   ],
   "source": [
    "outer (vl,vc) # note que a ordem dos vetores mudou, assim como a matriz do operador (como?)"
   ]
  },
  {
   "cell_type": "markdown",
   "metadata": {},
   "source": [
    "### Vetores de números complexos (como no espaço de Hilbert)"
   ]
  },
  {
   "cell_type": "code",
   "execution_count": 24,
   "metadata": {},
   "outputs": [],
   "source": [
    "v1 = array([1+2j, 3+2j, 5+1j, 4+0j])"
   ]
  },
  {
   "cell_type": "code",
   "execution_count": 25,
   "metadata": {},
   "outputs": [
    {
     "data": {
      "text/plain": [
       "array([-3. +4.j,  5.+12.j, 24.+10.j, 16. +0.j])"
      ]
     },
     "execution_count": 25,
     "metadata": {},
     "output_type": "execute_result"
    }
   ],
   "source": [
    "v1*v1  # produto (direto) de dois vetores complexos (você entendeu o resultado??!)"
   ]
  },
  {
   "cell_type": "code",
   "execution_count": 26,
   "metadata": {},
   "outputs": [
    {
     "data": {
      "text/plain": [
       "array([ 5.+0.j, 13.+0.j, 26.+0.j, 16.+0.j])"
      ]
     },
     "execution_count": 26,
     "metadata": {},
     "output_type": "execute_result"
    }
   ],
   "source": [
    "v1*v1.conjugate()  # multiplicando pelo complexo conjutado (retorna um real)"
   ]
  },
  {
   "cell_type": "code",
   "execution_count": 27,
   "metadata": {},
   "outputs": [
    {
     "data": {
      "text/plain": [
       "(-3+4j)"
      ]
     },
     "execution_count": 27,
     "metadata": {},
     "output_type": "execute_result"
    }
   ],
   "source": [
    "(1+2j)*(1+2j)"
   ]
  },
  {
   "cell_type": "code",
   "execution_count": 28,
   "metadata": {},
   "outputs": [
    {
     "data": {
      "text/plain": [
       "(60+0j)"
      ]
     },
     "execution_count": 28,
     "metadata": {},
     "output_type": "execute_result"
    }
   ],
   "source": [
    "dot(v1.conjugate(),v1)   # use o dot() para obter o produtor interno (escalar)"
   ]
  },
  {
   "cell_type": "markdown",
   "metadata": {},
   "source": [
    "### Matrizes\n",
    "Podemos também, claro, definir matrizes, que são objetos muito importantes neste curso. Na linguagem Python (usando a Numpy), podemos definir matrizes de duas formas. Uma é usando o mesmo comando **array**, que, na verdade, funciona para \"vetores multdimensionais\" dentro da linguagem. A outra forma será mostrada também nos exemplos.\n"
   ]
  },
  {
   "cell_type": "code",
   "execution_count": 29,
   "metadata": {},
   "outputs": [
    {
     "data": {
      "text/plain": [
       "array([[1, 0],\n",
       "       [1, 2]])"
      ]
     },
     "execution_count": 29,
     "metadata": {},
     "output_type": "execute_result"
    }
   ],
   "source": [
    "# a two-dimensional array\n",
    "m1 = array([[1,0],[1,2]])\n",
    "m1"
   ]
  },
  {
   "cell_type": "code",
   "execution_count": 30,
   "metadata": {},
   "outputs": [
    {
     "data": {
      "text/plain": [
       "array([[1, 1],\n",
       "       [0, 2]])"
      ]
     },
     "execution_count": 30,
     "metadata": {},
     "output_type": "execute_result"
    }
   ],
   "source": [
    "# pode calcular a matriz transpostas, com o método T\n",
    "m1.T"
   ]
  },
  {
   "cell_type": "code",
   "execution_count": 31,
   "metadata": {},
   "outputs": [
    {
     "data": {
      "text/plain": [
       "(array([2., 1.]),\n",
       " array([[ 0.        ,  0.70710678],\n",
       "        [ 1.        , -0.70710678]]))"
      ]
     },
     "execution_count": 31,
     "metadata": {},
     "output_type": "execute_result"
    }
   ],
   "source": [
    "# podemos também calcular (facilmente!) os autovalores e autovetores!! \n",
    "eig(m1)"
   ]
  },
  {
   "cell_type": "code",
   "execution_count": 32,
   "metadata": {},
   "outputs": [
    {
     "data": {
      "text/plain": [
       "array([0, 2])"
      ]
     },
     "execution_count": 32,
     "metadata": {},
     "output_type": "execute_result"
    }
   ],
   "source": [
    "# é fácil verificar o resultado também\n",
    "dot(m1,array([ 0, 1]))"
   ]
  },
  {
   "cell_type": "markdown",
   "metadata": {},
   "source": [
    "### Buscando ajuda com os comandos \"_?_\"  e \" _help()_ \" "
   ]
  },
  {
   "cell_type": "code",
   "execution_count": 33,
   "metadata": {},
   "outputs": [],
   "source": [
    "# use o sinal de interrogação para acessar o comando help() \n",
    "eig?"
   ]
  },
  {
   "cell_type": "code",
   "execution_count": 34,
   "metadata": {
    "scrolled": false
   },
   "outputs": [
    {
     "name": "stdout",
     "output_type": "stream",
     "text": [
      "Help on function eig in module numpy.linalg:\n",
      "\n",
      "eig(a)\n",
      "    Compute the eigenvalues and right eigenvectors of a square array.\n",
      "    \n",
      "    Parameters\n",
      "    ----------\n",
      "    a : (..., M, M) array\n",
      "        Matrices for which the eigenvalues and right eigenvectors will\n",
      "        be computed\n",
      "    \n",
      "    Returns\n",
      "    -------\n",
      "    w : (..., M) array\n",
      "        The eigenvalues, each repeated according to its multiplicity.\n",
      "        The eigenvalues are not necessarily ordered. The resulting\n",
      "        array will be of complex type, unless the imaginary part is\n",
      "        zero in which case it will be cast to a real type. When `a`\n",
      "        is real the resulting eigenvalues will be real (0 imaginary\n",
      "        part) or occur in conjugate pairs\n",
      "    \n",
      "    v : (..., M, M) array\n",
      "        The normalized (unit \"length\") eigenvectors, such that the\n",
      "        column ``v[:,i]`` is the eigenvector corresponding to the\n",
      "        eigenvalue ``w[i]``.\n",
      "    \n",
      "    Raises\n",
      "    ------\n",
      "    LinAlgError\n",
      "        If the eigenvalue computation does not converge.\n",
      "    \n",
      "    See Also\n",
      "    --------\n",
      "    eigvals : eigenvalues of a non-symmetric array.\n",
      "    \n",
      "    eigh : eigenvalues and eigenvectors of a real symmetric or complex\n",
      "           Hermitian (conjugate symmetric) array.\n",
      "    \n",
      "    eigvalsh : eigenvalues of a real symmetric or complex Hermitian\n",
      "               (conjugate symmetric) array.\n",
      "    \n",
      "    Notes\n",
      "    -----\n",
      "    \n",
      "    .. versionadded:: 1.8.0\n",
      "    \n",
      "    Broadcasting rules apply, see the `numpy.linalg` documentation for\n",
      "    details.\n",
      "    \n",
      "    This is implemented using the ``_geev`` LAPACK routines which compute\n",
      "    the eigenvalues and eigenvectors of general square arrays.\n",
      "    \n",
      "    The number `w` is an eigenvalue of `a` if there exists a vector\n",
      "    `v` such that ``dot(a,v) = w * v``. Thus, the arrays `a`, `w`, and\n",
      "    `v` satisfy the equations ``dot(a[:,:], v[:,i]) = w[i] * v[:,i]``\n",
      "    for :math:`i \\in \\{0,...,M-1\\}`.\n",
      "    \n",
      "    The array `v` of eigenvectors may not be of maximum rank, that is, some\n",
      "    of the columns may be linearly dependent, although round-off error may\n",
      "    obscure that fact. If the eigenvalues are all different, then theoretically\n",
      "    the eigenvectors are linearly independent. Likewise, the (complex-valued)\n",
      "    matrix of eigenvectors `v` is unitary if the matrix `a` is normal, i.e.,\n",
      "    if ``dot(a, a.H) = dot(a.H, a)``, where `a.H` denotes the conjugate\n",
      "    transpose of `a`.\n",
      "    \n",
      "    Finally, it is emphasized that `v` consists of the *right* (as in\n",
      "    right-hand side) eigenvectors of `a`.  A vector `y` satisfying\n",
      "    ``dot(y.T, a) = z * y.T`` for some number `z` is called a *left*\n",
      "    eigenvector of `a`, and, in general, the left and right eigenvectors\n",
      "    of a matrix are not necessarily the (perhaps conjugate) transposes\n",
      "    of each other.\n",
      "    \n",
      "    References\n",
      "    ----------\n",
      "    G. Strang, *Linear Algebra and Its Applications*, 2nd Ed., Orlando, FL,\n",
      "    Academic Press, Inc., 1980, Various pp.\n",
      "    \n",
      "    Examples\n",
      "    --------\n",
      "    >>> from numpy import linalg as LA\n",
      "    \n",
      "    (Almost) trivial example with real e-values and e-vectors.\n",
      "    \n",
      "    >>> w, v = LA.eig(np.diag((1, 2, 3)))\n",
      "    >>> w; v\n",
      "    array([1., 2., 3.])\n",
      "    array([[1., 0., 0.],\n",
      "           [0., 1., 0.],\n",
      "           [0., 0., 1.]])\n",
      "    \n",
      "    Real matrix possessing complex e-values and e-vectors; note that the\n",
      "    e-values are complex conjugates of each other.\n",
      "    \n",
      "    >>> w, v = LA.eig(np.array([[1, -1], [1, 1]]))\n",
      "    >>> w; v\n",
      "    array([1.+1.j, 1.-1.j])\n",
      "    array([[0.70710678+0.j        , 0.70710678-0.j        ],\n",
      "           [0.        -0.70710678j, 0.        +0.70710678j]])\n",
      "    \n",
      "    Complex-valued matrix with real e-values (but complex-valued e-vectors);\n",
      "    note that ``a.conj().T == a``, i.e., `a` is Hermitian.\n",
      "    \n",
      "    >>> a = np.array([[1, 1j], [-1j, 1]])\n",
      "    >>> w, v = LA.eig(a)\n",
      "    >>> w; v\n",
      "    array([2.+0.j, 0.+0.j])\n",
      "    array([[ 0.        +0.70710678j,  0.70710678+0.j        ], # may vary\n",
      "           [ 0.70710678+0.j        , -0.        +0.70710678j]])\n",
      "    \n",
      "    Be careful about round-off error!\n",
      "    \n",
      "    >>> a = np.array([[1 + 1e-9, 0], [0, 1 - 1e-9]])\n",
      "    >>> # Theor. e-values are 1 +/- 1e-9\n",
      "    >>> w, v = LA.eig(a)\n",
      "    >>> w; v\n",
      "    array([1., 1.])\n",
      "    array([[1., 0.],\n",
      "           [0., 1.]])\n",
      "\n"
     ]
    }
   ],
   "source": [
    "# assim também funciona... (mas o resultado é diferente)\n",
    "help(eig)"
   ]
  },
  {
   "cell_type": "markdown",
   "metadata": {},
   "source": [
    "<hr>"
   ]
  },
  {
   "cell_type": "markdown",
   "metadata": {},
   "source": [
    "# Exemplos e exercícios para praticar"
   ]
  },
  {
   "cell_type": "markdown",
   "metadata": {},
   "source": [
    "## Exemplo 1\n",
    "\n",
    "Lembra aquele exemplo... \n",
    "$$\n",
    "M = \\begin{pmatrix} 1 & 2 \\\\ 1 & 0 \\end{pmatrix}\n",
    "$$"
   ]
  },
  {
   "cell_type": "code",
   "execution_count": 35,
   "metadata": {},
   "outputs": [
    {
     "data": {
      "text/plain": [
       "matrix([[1, 2],\n",
       "        [1, 0]])"
      ]
     },
     "execution_count": 35,
     "metadata": {},
     "output_type": "execute_result"
    }
   ],
   "source": [
    "M = matrix([[1,2],[1,0]])\n",
    "M"
   ]
  },
  {
   "cell_type": "markdown",
   "metadata": {},
   "source": [
    "Quais os autovalores e autovetores? "
   ]
  },
  {
   "cell_type": "code",
   "execution_count": 36,
   "metadata": {},
   "outputs": [
    {
     "data": {
      "text/plain": [
       "(array([ 2., -1.]),\n",
       " matrix([[ 0.89442719, -0.70710678],\n",
       "         [ 0.4472136 ,  0.70710678]]))"
      ]
     },
     "execution_count": 36,
     "metadata": {},
     "output_type": "execute_result"
    }
   ],
   "source": [
    "eig(M)"
   ]
  },
  {
   "cell_type": "markdown",
   "metadata": {},
   "source": [
    "Vamos explorar os elementos desse objeto, atribuindo-o a uma variável."
   ]
  },
  {
   "cell_type": "code",
   "execution_count": 37,
   "metadata": {},
   "outputs": [],
   "source": [
    "autos = eig(M)"
   ]
  },
  {
   "cell_type": "markdown",
   "metadata": {},
   "source": [
    "Ao fazer isso, a função eig(M) retorna um objeto diferente dos que vimos até agora, chamado **Tuple**. Esse objeto é também uma coleção de elementos ordenados, parecido com uma lista, mas é indicado pelo símbolo de parênteses, ao invés dos colchetes. Podemos acessar os elementos de um **tuple**, de forma parecida com as **listas** e **arrays**. Veja os exemplos:"
   ]
  },
  {
   "cell_type": "code",
   "execution_count": 38,
   "metadata": {},
   "outputs": [
    {
     "data": {
      "text/plain": [
       "array([ 2., -1.])"
      ]
     },
     "execution_count": 38,
     "metadata": {},
     "output_type": "execute_result"
    }
   ],
   "source": [
    "autos[0]"
   ]
  },
  {
   "cell_type": "code",
   "execution_count": 39,
   "metadata": {},
   "outputs": [
    {
     "data": {
      "text/plain": [
       "matrix([[ 0.89442719, -0.70710678],\n",
       "        [ 0.4472136 ,  0.70710678]])"
      ]
     },
     "execution_count": 39,
     "metadata": {},
     "output_type": "execute_result"
    }
   ],
   "source": [
    "autos[1]"
   ]
  },
  {
   "cell_type": "markdown",
   "metadata": {},
   "source": [
    "Observer que este elemento (o segundo elemento do tuple) é uma matriz Numpy. Seus elementos podem ser acessados como qualquer matriz (ou array) no numpy. Por exemplo, para acessar o primeiro vetor linha"
   ]
  },
  {
   "cell_type": "code",
   "execution_count": 40,
   "metadata": {},
   "outputs": [
    {
     "data": {
      "text/plain": [
       "matrix([[ 0.89442719, -0.70710678]])"
      ]
     },
     "execution_count": 40,
     "metadata": {},
     "output_type": "execute_result"
    }
   ],
   "source": [
    "autos[1][0]"
   ]
  },
  {
   "cell_type": "code",
   "execution_count": 41,
   "metadata": {},
   "outputs": [
    {
     "data": {
      "text/plain": [
       "matrix([[0.18732041, 1.78885438]])"
      ]
     },
     "execution_count": 41,
     "metadata": {},
     "output_type": "execute_result"
    }
   ],
   "source": [
    "dot(autos[1][0],M)  # multiplicação à esquerda de um vetor linha pelo operador M"
   ]
  },
  {
   "cell_type": "markdown",
   "metadata": {},
   "source": [
    "Você já deve ter notado que **eig(M)** retorna os autovalores de **M**, no primeiro elemento do tuple, e os autovetores, no segundo elemento do tuple. Os autovetores estão na forma de vetores colunas."
   ]
  },
  {
   "cell_type": "code",
   "execution_count": 42,
   "metadata": {},
   "outputs": [
    {
     "data": {
      "text/plain": [
       "matrix([[ 0.89442719, -0.70710678],\n",
       "        [ 0.4472136 ,  0.70710678]])"
      ]
     },
     "execution_count": 42,
     "metadata": {},
     "output_type": "execute_result"
    }
   ],
   "source": [
    "autoV = autos[1]   # transpondo a matriz\n",
    "autoV"
   ]
  },
  {
   "cell_type": "markdown",
   "metadata": {},
   "source": [
    "podemos calcular a norma dos vetores colunas através do método **numpy.linalg.norm()**, que aqui pode ser acessado de uma forma abrevidas, pois já carregamos essa numpy.linalg com o alias  \"$\\textrm{la}$\""
   ]
  },
  {
   "cell_type": "code",
   "execution_count": 43,
   "metadata": {},
   "outputs": [
    {
     "data": {
      "text/plain": [
       "1.0"
      ]
     },
     "execution_count": 43,
     "metadata": {},
     "output_type": "execute_result"
    }
   ],
   "source": [
    "la.norm(autoV.T[1])"
   ]
  },
  {
   "cell_type": "markdown",
   "metadata": {},
   "source": [
    "Talvez lhe seja mais familiar, se divindo por $\\sqrt2$ e $\\sqrt5$ (fatorando esses termos), como fizemos nas aulas."
   ]
  },
  {
   "cell_type": "code",
   "execution_count": 44,
   "metadata": {},
   "outputs": [
    {
     "data": {
      "text/plain": [
       "matrix([[-0.5],\n",
       "        [ 0.5]])"
      ]
     },
     "execution_count": 44,
     "metadata": {},
     "output_type": "execute_result"
    }
   ],
   "source": [
    "autoV.T[1].T/sqrt(2)"
   ]
  },
  {
   "cell_type": "code",
   "execution_count": 45,
   "metadata": {},
   "outputs": [
    {
     "data": {
      "text/plain": [
       "matrix([[0.4],\n",
       "        [0.2]])"
      ]
     },
     "execution_count": 45,
     "metadata": {},
     "output_type": "execute_result"
    }
   ],
   "source": [
    "autoV.T[0].T/sqrt(5)"
   ]
  },
  {
   "cell_type": "markdown",
   "metadata": {},
   "source": [
    "podemos agora testar se os autovetores estão corretos, aplicando o operador sobre eles"
   ]
  },
  {
   "cell_type": "code",
   "execution_count": 46,
   "metadata": {},
   "outputs": [
    {
     "data": {
      "text/plain": [
       "matrix([[ 0.5],\n",
       "        [-0.5]])"
      ]
     },
     "execution_count": 46,
     "metadata": {},
     "output_type": "execute_result"
    }
   ],
   "source": [
    "dot(M,autoV.T[1].T)/sqrt(2)  # resulta no autovetor multplicado por seu autovalor"
   ]
  },
  {
   "cell_type": "code",
   "execution_count": 47,
   "metadata": {},
   "outputs": [
    {
     "data": {
      "text/plain": [
       "matrix([[0.8],\n",
       "        [0.4]])"
      ]
     },
     "execution_count": 47,
     "metadata": {},
     "output_type": "execute_result"
    }
   ],
   "source": [
    "dot(M,autoV.T[0].T)/sqrt(5)  # resulta no autovetor multplicado por seu autovalor"
   ]
  },
  {
   "cell_type": "markdown",
   "metadata": {},
   "source": [
    "Vale lembrar que um autovetor continua sendo um autovetor quando multiplicado por um escalar (a direção não muda!), portanto fatores multiplicativos não são relevanes para autovetores. Você pode observar, por exemplo, que o o primeiro autovetores acima, tem um fator de 2 com relação ao que havíamos determinado manualmente, na aula. "
   ]
  },
  {
   "cell_type": "markdown",
   "metadata": {},
   "source": [
    "**Transformação de similaridade**\n",
    "\n",
    "Podemos faze mais um exemplo de uso desse rescusos para demostrar o método de diagonalização discutido nas últimas aulas. Vimos que a a transformação **S** pode ser construída com os autovetores do operador (neste caso, a matriz **M**). Neste caso, a matriz **S** será exatamente a matriz autoV, calculada acima..."
   ]
  },
  {
   "cell_type": "code",
   "execution_count": 48,
   "metadata": {},
   "outputs": [
    {
     "data": {
      "text/plain": [
       "matrix([[ 2.00000000e+00,  2.22044605e-16],\n",
       "        [ 0.00000000e+00, -1.00000000e+00]])"
      ]
     },
     "execution_count": 48,
     "metadata": {},
     "output_type": "execute_result"
    }
   ],
   "source": [
    "S = autoV\n",
    "Si = la.inv(S)  # calcula a matriz inversa\n",
    "\n",
    "dot(Si,dot(M,S))"
   ]
  },
  {
   "cell_type": "code",
   "execution_count": 49,
   "metadata": {},
   "outputs": [
    {
     "data": {
      "text/plain": [
       "matrix([[ 2.,  0.],\n",
       "        [ 0., -1.]])"
      ]
     },
     "execution_count": 49,
     "metadata": {},
     "output_type": "execute_result"
    }
   ],
   "source": [
    "# você pode \"limpar\" os erros numéricos de arredondamento, se preferir\n",
    "dot(Si,dot(M,S)).round()"
   ]
  },
  {
   "cell_type": "markdown",
   "metadata": {},
   "source": [
    "Onde podemos ver que a matriz está agora na forma sua forma diagonal.  😉\n",
    "\n",
    "<hr>"
   ]
  },
  {
   "cell_type": "markdown",
   "metadata": {},
   "source": [
    "## Exemplo 2\n",
    "\n",
    "Para praticar um pouco, agora é sua vez! Vamos usar as matrizes do **Problema 3**  da **Lista 3**:\n",
    "\n",
    "$$\n",
    "A=\n",
    "\\begin{pmatrix}\n",
    "-1 & 2i & 0 \\\\\n",
    " 0 &  4 & 0 \\\\\n",
    " 1 &  0 & 1\n",
    "\\end{pmatrix}\n",
    "$$\n",
    "\n",
    "$$\n",
    "B=\n",
    "\\begin{pmatrix}\n",
    " 0 & 2  & i \\\\\n",
    "-i & 2i & 0 \\\\\n",
    " 0 &  1 & 4\n",
    "\\end{pmatrix}\n",
    "$$\n"
   ]
  },
  {
   "cell_type": "markdown",
   "metadata": {},
   "source": [
    "**Agora é sua vez:** comece escrevendo essas matriz num formato que a linguagem Python entenda. "
   ]
  },
  {
   "cell_type": "code",
   "execution_count": null,
   "metadata": {},
   "outputs": [],
   "source": []
  },
  {
   "cell_type": "markdown",
   "metadata": {},
   "source": [
    "Depois calcule as duas **inversas** (na lista foi pedido apenas de A) e **verifique se elas comutam**."
   ]
  },
  {
   "cell_type": "code",
   "execution_count": null,
   "metadata": {},
   "outputs": [],
   "source": []
  },
  {
   "cell_type": "markdown",
   "metadata": {},
   "source": [
    "Percebe agora os \" **super poderes** \" que isso te dá?? \n",
    "\n",
    "Poderia ser uma matriz de 10x10 ou 1000x1000 que o $\\underline{seu}$ trabalho seria essencialmente o mesmo! 😉\n",
    "\n",
    "_Numpy_ faria todo o trabalho pesado para você!! Parece-me motivação suficiente para aprender usar, não? \n",
    "\n",
    "<hr>"
   ]
  },
  {
   "cell_type": "markdown",
   "metadata": {},
   "source": [
    "## Exemplo 3\n",
    "\n",
    "Como último exemplo, vamos considerar agora o uma aplicação de distribuição estatística. Por exemplo, considere que foram feitas várias medidas de um observável o resultado é dado por uma lista de valores, como a abaixo."
   ]
  },
  {
   "cell_type": "code",
   "execution_count": 50,
   "metadata": {},
   "outputs": [
    {
     "name": "stdout",
     "output_type": "stream",
     "text": [
      "[10, 13, 14, 14, 6, 8, 7, 9, 12, 14, 13, 11, 10, 7, 7]\n",
      "[5.  6.5 7.  7.  3.  4.  3.5 4.5 6.  7.  6.5 5.5 5.  3.5 3.5]\n"
     ]
    }
   ],
   "source": [
    "m = [10,13,14,14,6,8,7,9,12,14,13,11,10,7,7]\n",
    "vetor = array(m)/2    #importante converter para array primeiro!\n",
    "print(m)\n",
    "print(vetor)   # usando a função print() para mostrar os valores das variáveis m e vetor"
   ]
  },
  {
   "cell_type": "code",
   "execution_count": 51,
   "metadata": {},
   "outputs": [
    {
     "data": {
      "image/png": "[encoded data removed]",
      "text/plain": [
       "<Figure size 432x288 with 1 Axes>"
      ]
     },
     "metadata": {
      "needs_background": "light"
     },
     "output_type": "display_data"
    }
   ],
   "source": [
    "# podemos construi um histograma das medidas usando a função hist()\n",
    "n1, bins1, patches1 = hist(m,bins=5,range=(5,14))"
   ]
  },
  {
   "cell_type": "code",
   "execution_count": 52,
   "metadata": {},
   "outputs": [
    {
     "data": {
      "text/plain": [
       "array([1., 4., 3., 2., 5.])"
      ]
     },
     "execution_count": 52,
     "metadata": {},
     "output_type": "execute_result"
    }
   ],
   "source": [
    "# a frequência (# de ocorrências) em cada bin é dada por\n",
    "n1"
   ]
  },
  {
   "cell_type": "code",
   "execution_count": 53,
   "metadata": {},
   "outputs": [
    {
     "data": {
      "image/png": "[encoded data removed]",
      "text/plain": [
       "<Figure size 432x288 with 1 Axes>"
      ]
     },
     "metadata": {
      "needs_background": "light"
     },
     "output_type": "display_data"
    }
   ],
   "source": [
    "# observe que m é uma lista enquanto vetor é um array, mas isso não faz diferença p/ hist()\n",
    "n2, bins2, patches2 = hist(vetor,bins=5,range=(1,14))"
   ]
  },
  {
   "cell_type": "code",
   "execution_count": 54,
   "metadata": {},
   "outputs": [
    {
     "data": {
      "text/plain": [
       "array([4., 6., 5., 0., 0.])"
      ]
     },
     "execution_count": 54,
     "metadata": {},
     "output_type": "execute_result"
    }
   ],
   "source": [
    "n2"
   ]
  },
  {
   "cell_type": "markdown",
   "metadata": {},
   "source": [
    "Podemos agora facilmente calcular a probabilidade (a partir das medidas, não a teórica) dos resultados dessas medidas."
   ]
  },
  {
   "cell_type": "code",
   "execution_count": 55,
   "metadata": {},
   "outputs": [
    {
     "data": {
      "text/plain": [
       "array([0.06666667, 0.26666667, 0.2       , 0.13333333, 0.33333333])"
      ]
     },
     "execution_count": 55,
     "metadata": {},
     "output_type": "execute_result"
    }
   ],
   "source": [
    "pvals1 = n1/n1.sum()\n",
    "pvals1"
   ]
  },
  {
   "cell_type": "code",
   "execution_count": 56,
   "metadata": {},
   "outputs": [
    {
     "data": {
      "text/plain": [
       "array([0.26666667, 0.4       , 0.33333333, 0.        , 0.        ])"
      ]
     },
     "execution_count": 56,
     "metadata": {},
     "output_type": "execute_result"
    }
   ],
   "source": [
    "pvals2 = n2/n2.sum()\n",
    "pvals2"
   ]
  },
  {
   "cell_type": "code",
   "execution_count": 57,
   "metadata": {},
   "outputs": [
    {
     "name": "stdout",
     "output_type": "stream",
     "text": [
      "A soma de todas as probabilidades pvals1 = 1.0\n",
      "A soma de todas as probabilidades pvals2 = 1.0\n"
     ]
    }
   ],
   "source": [
    "# note que as somas estão normalizadas...\n",
    "print(\"A soma de todas as probabilidades pvals1 =\",np.sum(pvals1))\n",
    "print(\"A soma de todas as probabilidades pvals2 =\",np.sum(pvals2))"
   ]
  },
  {
   "cell_type": "markdown",
   "metadata": {},
   "source": [
    "Vamos nos aprofundar um pouco mais nisso, pois vale a pena..."
   ]
  },
  {
   "cell_type": "code",
   "execution_count": 58,
   "metadata": {},
   "outputs": [
    {
     "data": {
      "text/plain": [
       "155.0"
      ]
     },
     "execution_count": 58,
     "metadata": {},
     "output_type": "execute_result"
    }
   ],
   "source": [
    "# o valore médio de <m>\n",
    "m =  2*vetor \n",
    "sm = m.sum()\n",
    "sm"
   ]
  },
  {
   "cell_type": "code",
   "execution_count": 59,
   "metadata": {},
   "outputs": [
    {
     "data": {
      "text/plain": [
       "155.0"
      ]
     },
     "execution_count": 59,
     "metadata": {},
     "output_type": "execute_result"
    }
   ],
   "source": [
    "np.sum(m)"
   ]
  },
  {
   "cell_type": "code",
   "execution_count": 60,
   "metadata": {},
   "outputs": [
    {
     "data": {
      "text/plain": [
       "11.09032258064516"
      ]
     },
     "execution_count": 60,
     "metadata": {},
     "output_type": "execute_result"
    }
   ],
   "source": [
    "p = 2*vetor/sm\n",
    "m1 = dot(p,m)  # <m> : valor médio de m\n",
    "m1"
   ]
  },
  {
   "cell_type": "markdown",
   "metadata": {},
   "source": [
    "$$\n",
    "\\langle m \\rangle = \\sum_i p_i\\ m_i\n",
    "$$\n",
    "\n",
    "$$\n",
    "\\langle m \\rangle^2 = \\sum_i p_i\\ m_i^2\n",
    "$$\n",
    "\n",
    "$$\n",
    "\\sigma^2 = \\langle m^2 \\rangle - \\langle m \\rangle^2\n",
    "$$"
   ]
  },
  {
   "cell_type": "code",
   "execution_count": 61,
   "metadata": {},
   "outputs": [
    {
     "data": {
      "text/plain": [
       "130.13548387096773"
      ]
     },
     "execution_count": 61,
     "metadata": {},
     "output_type": "execute_result"
    }
   ],
   "source": [
    "m2 = dot(p,m**2)\n",
    "m2"
   ]
  },
  {
   "cell_type": "code",
   "execution_count": 62,
   "metadata": {},
   "outputs": [
    {
     "data": {
      "text/plain": [
       "2.6721206799468824"
      ]
     },
     "execution_count": 62,
     "metadata": {},
     "output_type": "execute_result"
    }
   ],
   "source": [
    "sigma = sqrt( m2 - m1**2 )\n",
    "sigma"
   ]
  },
  {
   "cell_type": "code",
   "execution_count": 63,
   "metadata": {},
   "outputs": [
    {
     "data": {
      "image/png": "[encoded data removed]",
      "text/plain": [
       "<Figure size 432x288 with 1 Axes>"
      ]
     },
     "metadata": {
      "needs_background": "light"
     },
     "output_type": "display_data"
    }
   ],
   "source": [
    "pm = np.random.normal(m1, sigma, 10000)\n",
    "hist(pm,100);"
   ]
  },
  {
   "cell_type": "markdown",
   "metadata": {},
   "source": [
    "$$\n",
    "p(x)=\\frac{1}{\\sigma \\sqrt{2\\pi} } \\exp \\left(\\frac{-(x - \\langle m \\rangle)^2}{2 \\sigma^2} \\right)\n",
    "$$"
   ]
  },
  {
   "cell_type": "code",
   "execution_count": 64,
   "metadata": {},
   "outputs": [
    {
     "data": {
      "image/png": "[encoded data removed]",
      "text/plain": [
       "<Figure size 432x288 with 1 Axes>"
      ]
     },
     "metadata": {
      "needs_background": "light"
     },
     "output_type": "display_data"
    }
   ],
   "source": [
    "import matplotlib.pyplot as plt\n",
    "count, bins, ignored = plt.hist(pm, 100, density=True)\n",
    "plt.plot(bins, 1/(sigma * np.sqrt(2 * np.pi)) *\n",
    "               np.exp( - (bins - m1)**2 / (2 * sigma**2) ),\n",
    "         linewidth=2, color='r');"
   ]
  },
  {
   "cell_type": "markdown",
   "metadata": {},
   "source": [
    "**Sugestão:**  tenta agora usar esses dados para calcular a probabilidade de se obter um determinado valor $m_k$ (ou, mais estritamente falando, um intervalo entre $m_k$ e  $m_k + dm$.). Agora você teria, provavelmente, muito mais chances de fazer uma boa comparação com os valores teóricos calculados (analiticamente) para um operador observável físico."
   ]
  },
  {
   "cell_type": "code",
   "execution_count": null,
   "metadata": {},
   "outputs": [],
   "source": []
  },
  {
   "cell_type": "code",
   "execution_count": null,
   "metadata": {},
   "outputs": [],
   "source": []
  }
 ],
 "metadata": {
  "kernelspec": {
   "display_name": "Python 3.7.4 64-bit ('base': conda)",
   "language": "python",
   "name": "python37464bitbaseconda791f0b7549c149b2af76fe3c189fa6d3"
  },
  "language_info": {
   "codemirror_mode": {
    "name": "ipython",
    "version": 3
   },
   "file_extension": ".py",
   "mimetype": "text/x-python",
   "name": "python",
   "nbconvert_exporter": "python",
   "pygments_lexer": "ipython3",
   "version": "3.7.4"
  }
 },
 "nbformat": 4,
 "nbformat_minor": 4
}

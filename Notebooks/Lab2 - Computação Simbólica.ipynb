{
 "cells": [
  {
   "cell_type": "markdown",
   "metadata": {},
   "source": [
    "# Lab 2 - Computação Simbólica em Python\n",
    "Neste notebook veremos como utilizar recursos de computação algébrica, com expressões analíticas, dentro do ambiente Jupyter notebook. Para isso, usaremos a biblioteca [SymPy](https://www.sympy.org/pt/index.html). A intenção aqui é fornecer uma introdução básica ao tema, concentrando-se em como usar esses recursos no contexto do nosso curso. Para mais informações, você pode consultar a excelente [documentação](https://docs.sympy.org/latest/index.html) do **SymPy** que está disponível online. Um bom ponto de partida é o [Tutorial do SymPy](https://docs.sympy.org/latest/tutorial/index.html).\n",
    "\n",
    "Em particular, **não deixe de ler** [Gotchas!](https://docs.sympy.org/latest/tutorial/gotchas.html#symbols), para evitar problemas comuns de sintaxe!! 😉\n"
   ]
  },
  {
   "cell_type": "markdown",
   "metadata": {},
   "source": [
    "## Computação Simbólica\n",
    "A computação simbólica envolve a computação de objetos matemáticos simbolicamente. Isso significa que os objetos matemáticos são representados exatamente, não aproximadamente, e expressões matemáticas com variáveis não avaliadas são deixadas em forma simbólica, ou algébrica.\n",
    "\n",
    "Para entender a diferença veja os exemplos abaixo"
   ]
  },
  {
   "cell_type": "code",
   "execution_count": 1,
   "metadata": {},
   "outputs": [
    {
     "name": "stdout",
     "output_type": "stream",
     "text": [
      "A raiz de 9 é: 3.0\n",
      "A raiz de 8 é: 2.8284271247461903\n"
     ]
    }
   ],
   "source": [
    "import math\n",
    "print('A raiz de 9 é:', math.sqrt(9))\n",
    "print('A raiz de 8 é:', math.sqrt(8))"
   ]
  },
  {
   "cell_type": "code",
   "execution_count": 2,
   "metadata": {},
   "outputs": [
    {
     "name": "stdout",
     "output_type": "stream",
     "text": [
      "A raiz de 9 é: 3\n",
      "A raiz de 8 é: 2*sqrt(2)\n"
     ]
    }
   ],
   "source": [
    "import sympy\n",
    "print('A raiz de 9 é:', sympy.sqrt(9))\n",
    "print('A raiz de 8 é:', sympy.sqrt(8))"
   ]
  },
  {
   "cell_type": "markdown",
   "metadata": {},
   "source": [
    "Na aula passada, alguém perguntou porque o seno de $\\pi$ não era exatamente zero num dos resultados. Expliquei que isso era devido a aproximação finita que sempre existe ao representar um número no computador. As ferramentas de computação algébrica (CAS - [ _Computer Algebra System_ ](https://en.wikipedia.org/wiki/List_of_computer_algebra_systems) ), como o SymPy, usam recursos especiais para representar um número sem aproximações na memória do computador. Isso vem com um custo computacional, mas é bastante útil em várias situações, como veremos. Veja abaixo como SymPy avalia o $\\text{sen}(\\pi)$"
   ]
  },
  {
   "cell_type": "code",
   "execution_count": 3,
   "metadata": {},
   "outputs": [
    {
     "data": {
      "text/latex": [
       "$\\displaystyle 0$"
      ],
      "text/plain": [
       "0"
      ]
     },
     "execution_count": 3,
     "metadata": {},
     "output_type": "execute_result"
    }
   ],
   "source": [
    "sympy.sin(sympy.pi)  # resultado do seno de pi, com o SymPy"
   ]
  },
  {
   "cell_type": "code",
   "execution_count": 4,
   "metadata": {},
   "outputs": [
    {
     "data": {
      "text/plain": [
       "1.2246467991473532e-16"
      ]
     },
     "execution_count": 4,
     "metadata": {},
     "output_type": "execute_result"
    }
   ],
   "source": [
    "math.sin(math.pi)    # resultado do seno de pi, com a biblioteca padrão do Python"
   ]
  },
  {
   "cell_type": "markdown",
   "metadata": {},
   "source": [
    "Além de eliminar os **erros de arredondamento**, a computação algébrica permite manipular algebricamente expressões matemática e até mesmo aplicar ferramentas de Cálculo, como derivadas e integrais. Veremos exemplos mais adiante."
   ]
  },
  {
   "cell_type": "markdown",
   "metadata": {},
   "source": [
    "### 🤔 Como usar?  - variáveis simbólicas\n",
    "De maneira bem resumida, além de carregar a biblioteca **SymPy** e aprender sua sintaxe, o primeiro passo principal é definir uma **variável como simbólica**, como é mostrado nos exemplos abaixo:"
   ]
  },
  {
   "cell_type": "code",
   "execution_count": 5,
   "metadata": {},
   "outputs": [],
   "source": [
    "import sympy\n",
    "x, y, z, t = sympy.symbols('x y z t') "
   ]
  },
  {
   "cell_type": "markdown",
   "metadata": {},
   "source": [
    "Agora os identificadores (variáveis) \"x, y, z, t\" são variáveis simbólicas e serão tratadas como objetos sympy, e não mais como identificadores usuais do Python. Podemos, então definir funções com essas variáveis e usá-las em expressões algébricas. O exemplo abaixo, calcula a derivada de $e^{-2x^2}$:"
   ]
  },
  {
   "cell_type": "code",
   "execution_count": 6,
   "metadata": {},
   "outputs": [
    {
     "data": {
      "text/latex": [
       "$\\displaystyle - 4 x e^{- 2 x^{2}}$"
      ],
      "text/plain": [
       "-4*x*exp(-2*x**2)"
      ]
     },
     "execution_count": 6,
     "metadata": {},
     "output_type": "execute_result"
    }
   ],
   "source": [
    "sympy.diff(sympy.exp(-2*x**2))"
   ]
  },
  {
   "cell_type": "markdown",
   "metadata": {},
   "source": [
    "Para simplificar a sintaxe, e evitar ficar digitando **sympy.** o tempo todo, podemos carregar as funções diretamente (mas cuidado com isso!!), ou usar uma atalho (alias), com já mostramos na última aula. Aqui, para simplificar, eu vou carregar todas as funções que usaremos neste tutorial, na linha abaixo."
   ]
  },
  {
   "cell_type": "code",
   "execution_count": 7,
   "metadata": {},
   "outputs": [
    {
     "data": {
      "text/latex": [
       "$\\displaystyle - 4 x e^{- 2 x^{2}}$"
      ],
      "text/plain": [
       "-4*x*exp(-2*x**2)"
      ]
     },
     "execution_count": 7,
     "metadata": {},
     "output_type": "execute_result"
    }
   ],
   "source": [
    "from sympy import sin, cos, exp, diff, integrate, series, solve, pi, Matrix, simplify,oo\n",
    "diff(exp(-2*x**2))"
   ]
  },
  {
   "cell_type": "markdown",
   "metadata": {},
   "source": [
    "Podemos usar **solve** para resolver equações, como, por exemplo $x^2 - 8 = 0$"
   ]
  },
  {
   "cell_type": "code",
   "execution_count": 8,
   "metadata": {},
   "outputs": [
    {
     "data": {
      "text/plain": [
       "[-2*sqrt(2), 2*sqrt(2)]"
      ]
     },
     "execution_count": 8,
     "metadata": {},
     "output_type": "execute_result"
    }
   ],
   "source": [
    "solve(x**2 - 8,x)"
   ]
  },
  {
   "cell_type": "markdown",
   "metadata": {},
   "source": [
    "para tornar a apresentação das resposta mais agradável, podemos usar o comando"
   ]
  },
  {
   "cell_type": "code",
   "execution_count": 9,
   "metadata": {},
   "outputs": [],
   "source": [
    "sympy.init_printing(use_latex=True)"
   ]
  },
  {
   "cell_type": "code",
   "execution_count": 10,
   "metadata": {},
   "outputs": [
    {
     "data": {
      "image/png": "[encoded data removed]",
      "text/latex": [
       "$\\displaystyle \\left[ - 2 \\sqrt{2}, \\  2 \\sqrt{2}\\right]$"
      ],
      "text/plain": [
       "[-2⋅√2, 2⋅√2]"
      ]
     },
     "execution_count": 10,
     "metadata": {},
     "output_type": "execute_result"
    }
   ],
   "source": [
    "solve(x**2 - 8,x)"
   ]
  },
  {
   "cell_type": "markdown",
   "metadata": {},
   "source": [
    "Ou simplificar expressões algébricas"
   ]
  },
  {
   "cell_type": "code",
   "execution_count": 11,
   "metadata": {},
   "outputs": [
    {
     "name": "stdout",
     "output_type": "stream",
     "text": [
      " 3    2        \n",
      "x  + x  - x - 1\n",
      "───────────────\n",
      "   2           \n",
      "  x  + 2⋅x + 1 \n"
     ]
    },
    {
     "data": {
      "image/png": "[encoded data removed]",
      "text/latex": [
       "$\\displaystyle x - 1$"
      ],
      "text/plain": [
       "x - 1"
      ]
     },
     "execution_count": 11,
     "metadata": {},
     "output_type": "execute_result"
    }
   ],
   "source": [
    "sympy.pprint((x**3 + x**2 - x - 1)/(x**2 + 2*x + 1)) \n",
    "simplify((x**3 + x**2 - x - 1)/(x**2 + 2*x + 1))"
   ]
  },
  {
   "cell_type": "markdown",
   "metadata": {},
   "source": [
    "<hr>"
   ]
  },
  {
   "cell_type": "markdown",
   "metadata": {},
   "source": [
    "## Funções e gráficos\n",
    "A forma mais simples de definir uma função no SymPy é simplesmente definir uma nova variável atribuindo uma expressão com variáveis simbólicas"
   ]
  },
  {
   "cell_type": "code",
   "execution_count": 12,
   "metadata": {},
   "outputs": [
    {
     "data": {
      "image/png": "[encoded data removed]",
      "text/latex": [
       "$\\displaystyle x^{3} - 5 x^{2} + 3 x + 2$"
      ],
      "text/plain": [
       " 3      2          \n",
       "x  - 5⋅x  + 3⋅x + 2"
      ]
     },
     "execution_count": 12,
     "metadata": {},
     "output_type": "execute_result"
    }
   ],
   "source": [
    "expr = x**3 -5*x**2 + 3*x + 2\n",
    "expr"
   ]
  },
  {
   "cell_type": "code",
   "execution_count": 13,
   "metadata": {},
   "outputs": [
    {
     "data": {
      "image/png": "[encoded data removed]",
      "text/plain": [
       "<Figure size 432x288 with 1 Axes>"
      ]
     },
     "metadata": {
      "needs_background": "light"
     },
     "output_type": "display_data"
    }
   ],
   "source": [
    "sympy.plot(expr,(x,-1.5,5));  # é fácil plotar o gráfico de uma função"
   ]
  },
  {
   "cell_type": "markdown",
   "metadata": {},
   "source": [
    "Para mais informações veja a [documentação online](https://docs.sympy.org/latest/modules/functions/index.html?highlight=function#module-sympy.functions).\n"
   ]
  },
  {
   "cell_type": "markdown",
   "metadata": {},
   "source": [
    "<hr>"
   ]
  },
  {
   "cell_type": "markdown",
   "metadata": {},
   "source": [
    "## Matrizes\n",
    "É possível definir matrizes com o comando **Matrix()**"
   ]
  },
  {
   "cell_type": "code",
   "execution_count": 14,
   "metadata": {},
   "outputs": [
    {
     "data": {
      "image/png": "[encoded data removed]",
      "text/latex": [
       "$\\displaystyle \\left[\\begin{matrix}1 & 2\\\\1 & 0\\end{matrix}\\right]$"
      ],
      "text/plain": [
       "⎡1  2⎤\n",
       "⎢    ⎥\n",
       "⎣1  0⎦"
      ]
     },
     "execution_count": 14,
     "metadata": {},
     "output_type": "execute_result"
    }
   ],
   "source": [
    "M = Matrix([[1,2],[1,0]])  # define M com a nossa velha conhecida matriz...\n",
    "M"
   ]
  },
  {
   "cell_type": "code",
   "execution_count": 15,
   "metadata": {},
   "outputs": [
    {
     "data": {
      "image/png": "[encoded data removed]",
      "text/latex": [
       "$\\displaystyle -2$"
      ],
      "text/plain": [
       "-2"
      ]
     },
     "execution_count": 15,
     "metadata": {},
     "output_type": "execute_result"
    }
   ],
   "source": [
    "M.det()   # calcula o determinante da matriz M"
   ]
  },
  {
   "cell_type": "code",
   "execution_count": 16,
   "metadata": {},
   "outputs": [
    {
     "data": {
      "image/png": "[encoded data removed]",
      "text/latex": [
       "$\\displaystyle \\left[\\begin{matrix}0 & 1\\\\\\frac{1}{2} & - \\frac{1}{2}\\end{matrix}\\right]$"
      ],
      "text/plain": [
       "⎡ 0    1  ⎤\n",
       "⎢         ⎥\n",
       "⎣1/2  -1/2⎦"
      ]
     },
     "execution_count": 16,
     "metadata": {},
     "output_type": "execute_result"
    }
   ],
   "source": [
    "M.inv()   # matriz inversa"
   ]
  },
  {
   "cell_type": "code",
   "execution_count": 17,
   "metadata": {},
   "outputs": [
    {
     "data": {
      "image/png": "[encoded data removed]",
      "text/latex": [
       "$\\displaystyle \\left\\{ -1 : 1, \\  2 : 1\\right\\}$"
      ],
      "text/plain": [
       "{-1: 1, 2: 1}"
      ]
     },
     "execution_count": 17,
     "metadata": {},
     "output_type": "execute_result"
    }
   ],
   "source": [
    "M.eigenvals()   # autovalores"
   ]
  },
  {
   "cell_type": "code",
   "execution_count": 18,
   "metadata": {},
   "outputs": [
    {
     "data": {
      "image/png": "[encoded data removed]",
      "text/latex": [
       "$\\displaystyle \\left[ \\left( -1, \\  1, \\  \\left[ \\left[\\begin{matrix}-1\\\\1\\end{matrix}\\right]\\right]\\right), \\  \\left( 2, \\  1, \\  \\left[ \\left[\\begin{matrix}2\\\\1\\end{matrix}\\right]\\right]\\right)\\right]$"
      ],
      "text/plain": [
       "⎡⎛       ⎡⎡-1⎤⎤⎞  ⎛      ⎡⎡2⎤⎤⎞⎤\n",
       "⎢⎜-1, 1, ⎢⎢  ⎥⎥⎟, ⎜2, 1, ⎢⎢ ⎥⎥⎟⎥\n",
       "⎣⎝       ⎣⎣1 ⎦⎦⎠  ⎝      ⎣⎣1⎦⎦⎠⎦"
      ]
     },
     "execution_count": 18,
     "metadata": {},
     "output_type": "execute_result"
    }
   ],
   "source": [
    "M.eigenvects()  # autovetores"
   ]
  },
  {
   "cell_type": "code",
   "execution_count": 19,
   "metadata": {},
   "outputs": [
    {
     "data": {
      "image/png": "[encoded data removed]",
      "text/latex": [
       "$\\displaystyle \\left[\\begin{matrix}1 & 0 & 0 & 0\\\\0 & 1 & 0 & 0\\\\0 & 0 & 1 & 0\\\\0 & 0 & 0 & 1\\end{matrix}\\right]$"
      ],
      "text/plain": [
       "⎡1  0  0  0⎤\n",
       "⎢          ⎥\n",
       "⎢0  1  0  0⎥\n",
       "⎢          ⎥\n",
       "⎢0  0  1  0⎥\n",
       "⎢          ⎥\n",
       "⎣0  0  0  1⎦"
      ]
     },
     "execution_count": 19,
     "metadata": {},
     "output_type": "execute_result"
    }
   ],
   "source": [
    "sympy.eye(4)  # matriz identidade de ordem 4"
   ]
  },
  {
   "cell_type": "markdown",
   "metadata": {},
   "source": [
    "Podemos também definir uma matriz de variáveis e funções simbólicas! 😉"
   ]
  },
  {
   "cell_type": "code",
   "execution_count": 20,
   "metadata": {},
   "outputs": [
    {
     "data": {
      "image/png": "[encoded data removed]",
      "text/latex": [
       "$\\displaystyle \\left[\\begin{matrix}x^{2} & x + y\\\\2 x^{3} y & 5 y^{3}\\end{matrix}\\right]$"
      ],
      "text/plain": [
       "⎡   2         ⎤\n",
       "⎢  x     x + y⎥\n",
       "⎢             ⎥\n",
       "⎢   3       3 ⎥\n",
       "⎣2⋅x ⋅y  5⋅y  ⎦"
      ]
     },
     "execution_count": 20,
     "metadata": {},
     "output_type": "execute_result"
    }
   ],
   "source": [
    "G = Matrix([[x**2,y+x],[2*x**3*y, 5*y**3]])\n",
    "G"
   ]
  },
  {
   "cell_type": "markdown",
   "metadata": {},
   "source": [
    "Para mais informações e recursos, veja a [documentação online](https://docs.sympy.org/latest/tutorial/matrices.html?highlight=matrix). Vale a pena ver a parte de **diagonalização**.\n",
    "\n",
    "<hr>\n"
   ]
  },
  {
   "cell_type": "markdown",
   "metadata": {},
   "source": [
    "## Cálculo\n",
    "Vejamos alguns exemplos de como usar sympy em Cálculo...\n",
    "\n",
    "**Derivadas**"
   ]
  },
  {
   "cell_type": "code",
   "execution_count": 21,
   "metadata": {},
   "outputs": [
    {
     "data": {
      "image/png": "[encoded data removed]",
      "text/latex": [
       "$\\displaystyle e^{x} \\sin{\\left(x \\right)} + e^{x} \\cos{\\left(x \\right)}$"
      ],
      "text/plain": [
       " x           x       \n",
       "ℯ ⋅sin(x) + ℯ ⋅cos(x)"
      ]
     },
     "execution_count": 21,
     "metadata": {},
     "output_type": "execute_result"
    }
   ],
   "source": [
    "diff(sin(x)*exp(x), x)"
   ]
  },
  {
   "cell_type": "code",
   "execution_count": 22,
   "metadata": {},
   "outputs": [
    {
     "data": {
      "image/png": "[encoded data removed]",
      "text/latex": [
       "$\\displaystyle 8 e^{2 x}$"
      ],
      "text/plain": [
       "   2⋅x\n",
       "8⋅ℯ   "
      ]
     },
     "execution_count": 22,
     "metadata": {},
     "output_type": "execute_result"
    }
   ],
   "source": [
    "diff(exp(2*x),x,3)  # calcula a terceira derivada de exp(2*x) "
   ]
  },
  {
   "cell_type": "markdown",
   "metadata": {},
   "source": [
    "Podemos aplicar derivadas em objetos mais complexos, como matrizes, por exemplo."
   ]
  },
  {
   "cell_type": "code",
   "execution_count": 23,
   "metadata": {},
   "outputs": [
    {
     "data": {
      "image/png": "[encoded data removed]",
      "text/latex": [
       "$\\displaystyle \\left[\\begin{matrix}2 x & 1\\\\6 x^{2} y & 0\\end{matrix}\\right]$"
      ],
      "text/plain": [
       "⎡ 2⋅x    1⎤\n",
       "⎢         ⎥\n",
       "⎢   2     ⎥\n",
       "⎣6⋅x ⋅y  0⎦"
      ]
     },
     "execution_count": 23,
     "metadata": {},
     "output_type": "execute_result"
    }
   ],
   "source": [
    "diff(G,x)  # a matriz G foi definida acima"
   ]
  },
  {
   "cell_type": "markdown",
   "metadata": {},
   "source": [
    "Para calcular **derivadas parciais**, como $\\frac{\\partial^2}{\\partial x \\partial y} e^{(x^2+y^3)}$"
   ]
  },
  {
   "cell_type": "code",
   "execution_count": 24,
   "metadata": {},
   "outputs": [
    {
     "data": {
      "image/png": "[encoded data removed]",
      "text/latex": [
       "$\\displaystyle 6 x y^{2} e^{x^{2} + y^{3}}$"
      ],
      "text/plain": [
       "         2    3\n",
       "     2  x  + y \n",
       "6⋅x⋅y ⋅ℯ       "
      ]
     },
     "execution_count": 24,
     "metadata": {},
     "output_type": "execute_result"
    }
   ],
   "source": [
    "diff(exp(x**2+y**3),x,y)  # derivadas parciais com relação a x e y"
   ]
  },
  {
   "cell_type": "markdown",
   "metadata": {},
   "source": [
    "**Integração** \n",
    "- integrais indefinidas: `integrate(expr, variável)`\n",
    "- integrais definidas:   `integrate(expr, (var_int, lim_inf, lim_sup))`\n"
   ]
  },
  {
   "cell_type": "code",
   "execution_count": 25,
   "metadata": {},
   "outputs": [
    {
     "data": {
      "image/png": "[encoded data removed]",
      "text/latex": [
       "$\\displaystyle \\sin{\\left(x \\right)}$"
      ],
      "text/plain": [
       "sin(x)"
      ]
     },
     "execution_count": 25,
     "metadata": {},
     "output_type": "execute_result"
    }
   ],
   "source": [
    "integrate(cos(x),x)"
   ]
  },
  {
   "cell_type": "code",
   "execution_count": 26,
   "metadata": {},
   "outputs": [
    {
     "data": {
      "image/png": "[encoded data removed]",
      "text/latex": [
       "$\\displaystyle \\frac{\\sqrt{\\pi}}{2}$"
      ],
      "text/plain": [
       "√π\n",
       "──\n",
       "2 "
      ]
     },
     "execution_count": 26,
     "metadata": {},
     "output_type": "execute_result"
    }
   ],
   "source": [
    "# integral de uma gaussiana no intervalo {0,oo}\n",
    "integrate(exp(-x**2),(x,0,oo))  # O símbolo \"oo\" representa infinito"
   ]
  },
  {
   "cell_type": "markdown",
   "metadata": {},
   "source": [
    "Há ainda outra forma de definir de a integral, que pode ser conveniente"
   ]
  },
  {
   "cell_type": "code",
   "execution_count": 27,
   "metadata": {},
   "outputs": [
    {
     "data": {
      "image/png": "[encoded data removed]",
      "text/latex": [
       "$\\displaystyle \\int \\sin{\\left(x^{2} \\right)}\\, dx$"
      ],
      "text/plain": [
       "⌠           \n",
       "⎮    ⎛ 2⎞   \n",
       "⎮ sin⎝x ⎠ dx\n",
       "⌡           "
      ]
     },
     "execution_count": 27,
     "metadata": {},
     "output_type": "execute_result"
    }
   ],
   "source": [
    "integral = sympy.Integral(sin(x**2),x)\n",
    "integral"
   ]
  },
  {
   "cell_type": "markdown",
   "metadata": {},
   "source": [
    "A variável _integral_ representa a integração indicada acima. Para realizar o cálculo, pode-se usar **.doit()**"
   ]
  },
  {
   "cell_type": "code",
   "execution_count": 28,
   "metadata": {},
   "outputs": [
    {
     "data": {
      "image/png": "[encoded data removed]",
      "text/latex": [
       "$\\displaystyle \\frac{3 \\sqrt{2} \\sqrt{\\pi} S\\left(\\frac{\\sqrt{2} x}{\\sqrt{\\pi}}\\right) \\Gamma\\left(\\frac{3}{4}\\right)}{8 \\Gamma\\left(\\frac{7}{4}\\right)}$"
      ],
      "text/plain": [
       "         ⎛√2⋅x⎞       \n",
       "3⋅√2⋅√π⋅S⎜────⎟⋅Γ(3/4)\n",
       "         ⎝ √π ⎠       \n",
       "──────────────────────\n",
       "       8⋅Γ(7/4)       "
      ]
     },
     "execution_count": 28,
     "metadata": {},
     "output_type": "execute_result"
    }
   ],
   "source": [
    "integral.doit()"
   ]
  },
  {
   "cell_type": "markdown",
   "metadata": {},
   "source": [
    "O método **.doit()** pode ser usado em outros contextos também."
   ]
  },
  {
   "cell_type": "markdown",
   "metadata": {},
   "source": [
    "<hr>"
   ]
  },
  {
   "cell_type": "markdown",
   "metadata": {},
   "source": [
    "## Séries de potências\n",
    "Podemos facilmente expandir em **série de Taylor**, usando o comando **series()**"
   ]
  },
  {
   "cell_type": "code",
   "execution_count": 29,
   "metadata": {},
   "outputs": [
    {
     "data": {
      "image/png": "[encoded data removed]",
      "text/latex": [
       "$\\displaystyle 1 + x + \\frac{x^{2}}{2} + \\frac{x^{3}}{6} + \\frac{x^{4}}{24} + \\frac{x^{5}}{120} + O\\left(x^{6}\\right)$"
      ],
      "text/plain": [
       "         2    3    4     5        \n",
       "        x    x    x     x     ⎛ 6⎞\n",
       "1 + x + ── + ── + ── + ─── + O⎝x ⎠\n",
       "        2    6    24   120        "
      ]
     },
     "execution_count": 29,
     "metadata": {},
     "output_type": "execute_result"
    }
   ],
   "source": [
    "series(exp(x))"
   ]
  },
  {
   "cell_type": "markdown",
   "metadata": {},
   "source": [
    "Se definirmos uma expressão (ou função), podemos fazer a sua expansão usando o método **.series()**. Neste caso, a sintaxe geral tem a forma: `f(x).series(x, x0, n)`, onde `x0` indica o ponto de expansão e `n` indica a ordem da expansão."
   ]
  },
  {
   "cell_type": "code",
   "execution_count": 30,
   "metadata": {},
   "outputs": [
    {
     "data": {
      "image/png": "[encoded data removed]",
      "text/latex": [
       "$\\displaystyle 1 - 2 x^{2} + 2 x^{4} - \\frac{4 x^{6}}{3} + \\frac{2 x^{8}}{3} + O\\left(x^{9}\\right)$"
      ],
      "text/plain": [
       "                     6      8        \n",
       "       2      4   4⋅x    2⋅x     ⎛ 9⎞\n",
       "1 - 2⋅x  + 2⋅x  - ──── + ──── + O⎝x ⎠\n",
       "                   3      3          "
      ]
     },
     "execution_count": 30,
     "metadata": {},
     "output_type": "execute_result"
    }
   ],
   "source": [
    "expr = exp(-2*x**2)\n",
    "expr.series(x,0,9)"
   ]
  },
  {
   "cell_type": "markdown",
   "metadata": {},
   "source": [
    "## Séries de Fourier\n",
    "Também é possível expandir em **Série de Fourier**. Para isso, vamos carregar a função  "
   ]
  },
  {
   "cell_type": "code",
   "execution_count": 31,
   "metadata": {},
   "outputs": [
    {
     "data": {
      "image/png": "[encoded data removed]",
      "text/latex": [
       "$\\displaystyle - 4 \\cos{\\left(x \\right)} + \\cos{\\left(2 x \\right)} + \\frac{\\pi^{2}}{3} + \\ldots$"
      ],
      "text/plain": [
       "                        2    \n",
       "                       π     \n",
       "-4⋅cos(x) + cos(2⋅x) + ── + …\n",
       "                       3     "
      ]
     },
     "execution_count": 31,
     "metadata": {},
     "output_type": "execute_result"
    }
   ],
   "source": [
    "from sympy import fourier_series\n",
    "s = fourier_series(x**2)\n",
    "s"
   ]
  },
  {
   "cell_type": "code",
   "execution_count": 32,
   "metadata": {},
   "outputs": [
    {
     "name": "stdout",
     "output_type": "stream",
     "text": [
      "                        2    \n",
      "                       π     \n",
      "-4⋅cos(x) + cos(2⋅x) + ── + …\n",
      "                       3     \n",
      "                                                ⎛           3⎞             \n",
      "                        ⎛   3   3⋅π⎞            ⎜  4⋅π   2⋅π ⎟             \n",
      "⎛           3⎞          ⎜- π  + ───⎟⋅sin(2⋅x)   ⎜- ─── + ────⎟⋅sin(3⋅x)    \n",
      "⎝-12⋅π + 2⋅π ⎠⋅sin(x)   ⎝        2 ⎠            ⎝   9     3  ⎠             \n",
      "───────────────────── + ───────────────────── + ─────────────────────── + …\n",
      "          π                       π                        π               \n"
     ]
    }
   ],
   "source": [
    "#sympy.init_printing(pretty_print=True,use_unicode=True)\n",
    "s1 = fourier_series(x**2)\n",
    "s2 = fourier_series(x**3)\n",
    "sympy.pprint(s1)\n",
    "sympy.pprint(s2)"
   ]
  },
  {
   "cell_type": "markdown",
   "metadata": {},
   "source": [
    "É possível definir melhor o ponto de expansão, o intervalo e a ordem da expansão"
   ]
  },
  {
   "cell_type": "code",
   "execution_count": 33,
   "metadata": {},
   "outputs": [
    {
     "data": {
      "image/png": "[encoded data removed]",
      "text/latex": [
       "$\\displaystyle - 4 \\cos{\\left(x \\right)} + \\cos{\\left(2 x \\right)} - \\frac{4 \\cos{\\left(3 x \\right)}}{9} + \\frac{\\cos{\\left(4 x \\right)}}{4} + \\frac{\\pi^{2}}{3}$"
      ],
      "text/plain": [
       "                                                2\n",
       "                       4⋅cos(3⋅x)   cos(4⋅x)   π \n",
       "-4⋅cos(x) + cos(2⋅x) - ────────── + ──────── + ──\n",
       "                           9           4       3 "
      ]
     },
     "execution_count": 33,
     "metadata": {},
     "output_type": "execute_result"
    }
   ],
   "source": [
    "s = fourier_series(x**2, (x,-pi,pi))\n",
    "s.truncate(5)"
   ]
  },
  {
   "cell_type": "markdown",
   "metadata": {},
   "source": [
    "## Transformada de Fourier"
   ]
  },
  {
   "cell_type": "code",
   "execution_count": 34,
   "metadata": {},
   "outputs": [
    {
     "data": {
      "image/png": "[encoded data removed]",
      "text/latex": [
       "$\\displaystyle \\frac{\\sqrt{3} \\sqrt{\\pi} e^{- \\frac{\\pi^{2} k^{2}}{3}}}{3}$"
      ],
      "text/plain": [
       "         2  2 \n",
       "       -π ⋅k  \n",
       "       ───────\n",
       "          3   \n",
       "√3⋅√π⋅ℯ       \n",
       "──────────────\n",
       "      3       "
      ]
     },
     "execution_count": 34,
     "metadata": {},
     "output_type": "execute_result"
    }
   ],
   "source": [
    "from sympy import fourier_transform, exp\n",
    "from sympy.abc import x, k\n",
    "fourier_transform(exp(-3*x**2), x, k)"
   ]
  },
  {
   "cell_type": "markdown",
   "metadata": {},
   "source": [
    "Para mais detalhes e informações, consulte a [documentação online](https://docs.sympy.org/latest/modules/integrals/integrals.html?highlight=fourier#sympy.integrals.transforms._fourier_transform)."
   ]
  },
  {
   "cell_type": "markdown",
   "metadata": {},
   "source": [
    "<hr>\n",
    "<hr>"
   ]
  },
  {
   "cell_type": "markdown",
   "metadata": {},
   "source": [
    "## Exemplos e exercícios"
   ]
  },
  {
   "cell_type": "markdown",
   "metadata": {},
   "source": [
    "### Exemplo 1\n",
    "Vamos resolver aqui o **Exemplo 2.6** do livro do **Griffiths**, para ilustrar alguns recursos interessantes.\n",
    "\n",
    "Para mais aprender mais sobre **Funções Especiais** do sympy, veja a [documentação online](https://docs.sympy.org/latest/modules/functions/special.html#).\n"
   ]
  },
  {
   "cell_type": "code",
   "execution_count": 35,
   "metadata": {},
   "outputs": [
    {
     "data": {
      "image/png": "[encoded data removed]",
      "text/plain": [
       "<Figure size 432x288 with 1 Axes>"
      ]
     },
     "metadata": {
      "needs_background": "light"
     },
     "output_type": "display_data"
    },
    {
     "data": {
      "image/png": "[encoded data removed]",
      "text/plain": [
       "<Figure size 432x288 with 1 Axes>"
      ]
     },
     "metadata": {
      "needs_background": "light"
     },
     "output_type": "display_data"
    }
   ],
   "source": [
    "from sympy import Heaviside, DiracDelta, plot, symbols, oo, Eq, sqrt, pi, exp, sin\n",
    "psi, A, a = symbols('psi, A, a')\n",
    "h = A*(Heaviside(x+a)-Heaviside(x-a))\n",
    "plot(h.subs(((a,1),(A,1))) ,(x,-3,3));\n",
    "plot(h.subs(((a,0.5),(A,2))) ,(x,-3,3));"
   ]
  },
  {
   "cell_type": "code",
   "execution_count": 36,
   "metadata": {},
   "outputs": [
    {
     "data": {
      "image/png": "[encoded data removed]",
      "text/latex": [
       "$\\displaystyle \\frac{\\sqrt{2} A \\left(- \\theta\\left(- a + x\\right) + \\theta\\left(a + x\\right)\\right)}{2 \\sqrt{a}}$"
      ],
      "text/plain": [
       "√2⋅A⋅(-θ(-a + x) + θ(a + x))\n",
       "────────────────────────────\n",
       "            2⋅√a            "
      ]
     },
     "execution_count": 36,
     "metadata": {},
     "output_type": "execute_result"
    }
   ],
   "source": [
    "psi = h/sqrt(2*a)\n",
    "psi\n",
    "#psi1 = psi.subs(((A,1),(a,1)))\n",
    "#psi1"
   ]
  },
  {
   "cell_type": "code",
   "execution_count": 37,
   "metadata": {},
   "outputs": [
    {
     "data": {
      "image/png": "[encoded data removed]",
      "text/plain": [
       "<Figure size 432x288 with 1 Axes>"
      ]
     },
     "metadata": {
      "needs_background": "light"
     },
     "output_type": "display_data"
    }
   ],
   "source": [
    "psi1 = psi.subs(((A,1),(a,1)))\n",
    "plot(psi1,(x,-2,2));"
   ]
  },
  {
   "cell_type": "code",
   "execution_count": 38,
   "metadata": {},
   "outputs": [
    {
     "data": {
      "image/png": "[encoded data removed]",
      "text/latex": [
       "$\\displaystyle \\frac{\\begin{cases} - \\frac{1.0 i e^{1.0 i a k}}{k} + \\frac{1.0 i e^{- 1.0 i a k}}{k} & \\text{for}\\: k > -\\infty \\wedge k < \\infty \\wedge k \\neq 0 \\\\2 a & \\text{otherwise} \\end{cases}}{2 \\sqrt{\\pi} \\sqrt{a}}$"
      ],
      "text/plain": [
       "⎧         1.0⋅ⅈ⋅a⋅k          -1.0⋅ⅈ⋅a⋅k                            \n",
       "⎪  1.0⋅ⅈ⋅ℯ            1.0⋅ⅈ⋅ℯ                                      \n",
       "⎪- ──────────────── + ─────────────────  for k > -∞ ∧ k < ∞ ∧ k ≠ 0\n",
       "⎨         k                   k                                    \n",
       "⎪                                                                  \n",
       "⎪                 2⋅a                            otherwise         \n",
       "⎩                                                                  \n",
       "───────────────────────────────────────────────────────────────────\n",
       "                              2⋅√π⋅√a                              "
      ]
     },
     "execution_count": 38,
     "metadata": {},
     "output_type": "execute_result"
    }
   ],
   "source": [
    "phi = (1/sqrt(2*pi))*(1/sqrt(2*a))*integrate(exp(-1j*k*x),(x,-a,a))\n",
    "phi"
   ]
  },
  {
   "cell_type": "code",
   "execution_count": 39,
   "metadata": {},
   "outputs": [
    {
     "data": {
      "image/png": "[encoded data removed]",
      "text/latex": [
       "$\\displaystyle \\begin{cases} \\frac{1.0 \\sin{\\left(1.0 a k \\right)}}{\\sqrt{\\pi} \\sqrt{a} k} & \\text{for}\\: k > -\\infty \\wedge k < \\infty \\wedge k \\neq 0 \\\\\\frac{\\sqrt{a}}{\\sqrt{\\pi}} & \\text{otherwise} \\end{cases}$"
      ],
      "text/plain": [
       "⎧1.0⋅sin(1.0⋅a⋅k)                            \n",
       "⎪────────────────  for k > -∞ ∧ k < ∞ ∧ k ≠ 0\n",
       "⎪    √π⋅√a⋅k                                 \n",
       "⎨                                            \n",
       "⎪       √a                                   \n",
       "⎪       ──                 otherwise         \n",
       "⎩       √π                                   "
      ]
     },
     "execution_count": 39,
     "metadata": {},
     "output_type": "execute_result"
    }
   ],
   "source": [
    "phi.simplify()"
   ]
  },
  {
   "cell_type": "code",
   "execution_count": 40,
   "metadata": {},
   "outputs": [
    {
     "data": {
      "image/png": "[encoded data removed]",
      "text/plain": [
       "<Figure size 432x288 with 1 Axes>"
      ]
     },
     "metadata": {
      "needs_background": "light"
     },
     "output_type": "display_data"
    }
   ],
   "source": [
    "phi1 = phi.subs(a,1)\n",
    "plot(phi1,(k,-10,10));"
   ]
  },
  {
   "cell_type": "markdown",
   "metadata": {},
   "source": [
    "<hr>"
   ]
  },
  {
   "cell_type": "markdown",
   "metadata": {},
   "source": [
    "### Exemplo 2"
   ]
  },
  {
   "cell_type": "code",
   "execution_count": 41,
   "metadata": {},
   "outputs": [
    {
     "data": {
      "image/png": "[encoded data removed]",
      "text/plain": [
       "<Figure size 432x288 with 1 Axes>"
      ]
     },
     "metadata": {
      "needs_background": "light"
     },
     "output_type": "display_data"
    }
   ],
   "source": [
    "from sympy import Heaviside, Function, symbols, plot, simplify, exp, sin, pi\n",
    "from sympy import integrate, dsolve, Eq, Derivative as D\n",
    "x, k, a, A, n = symbols('x, k, a, A, n', real=True)\n",
    "psi = Function('psi')(x)\n",
    "V = 1000*(1-(Heaviside(x)-Heaviside(x-1)))\n",
    "plot(V,(x,-2,2));"
   ]
  },
  {
   "cell_type": "code",
   "execution_count": 42,
   "metadata": {},
   "outputs": [
    {
     "data": {
      "image/png": "[encoded data removed]",
      "text/latex": [
       "$\\displaystyle k^{2} \\psi{\\left(x \\right)} + \\frac{d^{2}}{d x^{2}} \\psi{\\left(x \\right)} = 0$"
      ],
      "text/plain": [
       "            2          \n",
       " 2         d           \n",
       "k ⋅ψ(x) + ───(ψ(x)) = 0\n",
       "            2          \n",
       "          dx           "
      ]
     },
     "execution_count": 42,
     "metadata": {},
     "output_type": "execute_result"
    }
   ],
   "source": [
    "eq = Eq(D(psi,x,x) + k**2*psi,0)\n",
    "eq"
   ]
  },
  {
   "cell_type": "code",
   "execution_count": 43,
   "metadata": {},
   "outputs": [
    {
     "data": {
      "image/png": "[encoded data removed]",
      "text/latex": [
       "$\\displaystyle \\psi{\\left(x \\right)} = C_{1} \\sin{\\left(x \\left|{k}\\right| \\right)} + C_{2} \\cos{\\left(k x \\right)}$"
      ],
      "text/plain": [
       "ψ(x) = C₁⋅sin(x⋅│k│) + C₂⋅cos(k⋅x)"
      ]
     },
     "execution_count": 43,
     "metadata": {},
     "output_type": "execute_result"
    }
   ],
   "source": [
    "dsolve(eq,psi)"
   ]
  },
  {
   "cell_type": "markdown",
   "metadata": {},
   "source": [
    "Ao analisar a solução acima, nos limites em que $x=0$ e $x=a$, onde $\\psi \\rightarrow 0$, temos que\n",
    "\n",
    "$$\n",
    "\\psi(0) = C_1 \\sin(0)+ C_2 \\cos(0) = C_2 =0 \\\\\n",
    "A = C_1\n",
    "$$\n",
    "\n",
    "e\n",
    "\n",
    "$$\n",
    "\\psi(a) = A \\sin(a k) = 0 \\\\\n",
    "\\sin(ak) = 0 \\rightarrow \\quad k = \\frac{n\\pi}{a}, \\quad n=1,2,3,\\dots\n",
    "$$\n",
    "\n",
    "Como pode-se verificar"
   ]
  },
  {
   "cell_type": "code",
   "execution_count": 44,
   "metadata": {},
   "outputs": [
    {
     "data": {
      "image/png": "[encoded data removed]",
      "text/latex": [
       "$\\displaystyle \\begin{cases} \\frac{A^{2} a \\left(\\pi n - \\frac{\\sin{\\left(2 \\pi n \\right)}}{2}\\right)}{2 \\pi n} & \\text{for}\\: \\frac{\\pi n}{a} \\neq 0 \\\\0 & \\text{otherwise} \\end{cases}$"
      ],
      "text/plain": [
       "⎧ 2   ⎛      sin(2⋅π⋅n)⎞             \n",
       "⎪A ⋅a⋅⎜π⋅n - ──────────⎟             \n",
       "⎪     ⎝          2     ⎠      π⋅n    \n",
       "⎨───────────────────────  for ─── ≠ 0\n",
       "⎪         2⋅π⋅n                a     \n",
       "⎪                                    \n",
       "⎩           0              otherwise "
      ]
     },
     "execution_count": 44,
     "metadata": {},
     "output_type": "execute_result"
    }
   ],
   "source": [
    "psi = A*sin(n*pi*x/a)\n",
    "norma = integrate(psi*psi, (x,0,a)).simplify()\n",
    "norma"
   ]
  },
  {
   "cell_type": "code",
   "execution_count": 45,
   "metadata": {},
   "outputs": [
    {
     "data": {
      "image/png": "[encoded data removed]",
      "text/latex": [
       "$\\displaystyle \\left[ - \\sqrt{2} \\sqrt{\\frac{1}{a}}, \\  \\sqrt{2} \\sqrt{\\frac{1}{a}}\\right]$"
      ],
      "text/plain": [
       "⎡        ___         ___⎤\n",
       "⎢       ╱ 1         ╱ 1 ⎥\n",
       "⎢-√2⋅  ╱  ─ , √2⋅  ╱  ─ ⎥\n",
       "⎣    ╲╱   a      ╲╱   a ⎦"
      ]
     },
     "execution_count": 45,
     "metadata": {},
     "output_type": "execute_result"
    }
   ],
   "source": [
    "solve(Eq( norma.subs(n,1) ,1),A  )"
   ]
  },
  {
   "cell_type": "markdown",
   "metadata": {},
   "source": [
    "Portanto, a condição de normalização resulta em $A=\\sqrt{\\frac{2}{a}}$, e os estados estacionários são\n",
    "\n",
    "$$\n",
    "\\psi_n (x) = \\sqrt{\\frac{2}{a}} \\text{sen}\\left( \\frac{n \\pi}{a} x \\right)\n",
    "$$\n",
    "\n",
    "Para visualizar estes estados, podemos fazer $a=1$ e plotar para $n=1,2,3$\n"
   ]
  },
  {
   "cell_type": "code",
   "execution_count": 46,
   "metadata": {},
   "outputs": [
    {
     "data": {
      "image/png": "[encoded data removed]",
      "text/latex": [
       "$\\displaystyle \\sin{\\left(\\pi n x \\right)}$"
      ],
      "text/plain": [
       "sin(π⋅n⋅x)"
      ]
     },
     "execution_count": 46,
     "metadata": {},
     "output_type": "execute_result"
    }
   ],
   "source": [
    "psi.subs(((A,1),(a,1)))"
   ]
  },
  {
   "cell_type": "code",
   "execution_count": 47,
   "metadata": {},
   "outputs": [
    {
     "data": {
      "image/png": "[encoded data removed]",
      "text/plain": [
       "<Figure size 432x288 with 1 Axes>"
      ]
     },
     "metadata": {
      "needs_background": "light"
     },
     "output_type": "display_data"
    }
   ],
   "source": [
    "import numpy as np\n",
    "import matplotlib.pyplot as plt\n",
    "x = np.linspace(0,1,51)\n",
    "\n",
    "for k in range(1,5):\n",
    "    plt.plot( x, np.sin(k*np.pi*x) )"
   ]
  },
  {
   "cell_type": "code",
   "execution_count": null,
   "metadata": {},
   "outputs": [],
   "source": []
  }
 ],
 "metadata": {
  "jupytext": {
   "cell_metadata_filter": "-all",
   "notebook_metadata_filter": "-all",
   "text_representation": {
    "extension": ".md",
    "format_name": "markdown"
   }
  },
  "kernelspec": {
   "display_name": "Python 3",
   "language": "python",
   "name": "python3"
  },
  "language_info": {
   "codemirror_mode": {
    "name": "ipython",
    "version": 3
   },
   "file_extension": ".py",
   "mimetype": "text/x-python",
   "name": "python",
   "nbconvert_exporter": "python",
   "pygments_lexer": "ipython3",
   "version": "3.7.3"
  }
 },
 "nbformat": 4,
 "nbformat_minor": 4
}
